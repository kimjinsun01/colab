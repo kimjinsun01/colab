{
  "nbformat": 4,
  "nbformat_minor": 0,
  "metadata": {
    "colab": {
      "provenance": [],
      "authorship_tag": "ABX9TyPHmdEaMuYoKLZp3rnhL5Mc",
      "include_colab_link": true
    },
    "kernelspec": {
      "name": "python3",
      "display_name": "Python 3"
    },
    "language_info": {
      "name": "python"
    }
  },
  "cells": [
    {
      "cell_type": "markdown",
      "metadata": {
        "id": "view-in-github",
        "colab_type": "text"
      },
      "source": [
        "<a href=\"https://colab.research.google.com/github/kimjinsun01/colab/blob/main/Lession8.ipynb\" target=\"_parent\"><img src=\"https://colab.research.google.com/assets/colab-badge.svg\" alt=\"Open In Colab\"/></a>"
      ]
    },
    {
      "cell_type": "code",
      "execution_count": 16,
      "metadata": {
        "colab": {
          "base_uri": "https://localhost:8080/"
        },
        "id": "b33ZvC4hxbrg",
        "outputId": "5520450d-0d5c-46e1-92b5-09c7987e4c44"
      },
      "outputs": [
        {
          "output_type": "stream",
          "name": "stdout",
          "text": [
            "오늘의 나라 ==> 베트남\n"
          ]
        }
      ],
      "source": [
        "import random\n",
        "wiseSay = [\"베트남\",\n",
        "           \"태국\",\n",
        "           \"말레이시아\",\n",
        "           \"캄보디아\"\n",
        "           ]\n",
        "today = random.randint(0,len(wiseSay)-1)\n",
        "print(\"오늘의 나라 ==>\",wiseSay[today])\n"
      ]
    },
    {
      "cell_type": "code",
      "source": [
        "numList2 = [[1,2,3,4],\n",
        "            [5,6,7,8],\n",
        "            [9,10,11,12]]\n",
        "\n",
        "for i in range(0,3) :\n",
        "  for k in range(0,4) :\n",
        "    print(\" \", numList2[i][k],end='')\n",
        "  print(\"\")"
      ],
      "metadata": {
        "colab": {
          "base_uri": "https://localhost:8080/"
        },
        "id": "wJSJEuxj64Au",
        "outputId": "9c4c8176-8dc8-4eaa-9c59-aa3cf409c255"
      },
      "execution_count": 17,
      "outputs": [
        {
          "output_type": "stream",
          "name": "stdout",
          "text": [
            "  1  2  3  4\n",
            "  5  6  7  8\n",
            "  9  10  11  12\n"
          ]
        }
      ]
    },
    {
      "cell_type": "code",
      "source": [
        "print(\"김동빈선수 경기 끝났습니다\")\n",
        "\n",
        "score = []\n",
        "for i in range(5) :\n",
        "  jumsu = int(input(\"평균점수==>\"))\n",
        "  score.append(jumsu)\n",
        "hap = 0\n",
        "for i in range(5) :\n",
        "  hap += score[i]\n",
        "\n",
        "avg = hap /5\n",
        "print(\"심사위원 평균점수:\",avg)"
      ],
      "metadata": {
        "colab": {
          "base_uri": "https://localhost:8080/"
        },
        "id": "W0-jq_pe8uMf",
        "outputId": "fb4bab49-f658-4105-c69e-afcfb9e16269"
      },
      "execution_count": 20,
      "outputs": [
        {
          "output_type": "stream",
          "name": "stdout",
          "text": [
            "김동빈선수 경기 끝났습니다\n",
            "평균점수==>10\n",
            "평균점수==>9\n",
            "평균점수==>8\n",
            "평균점수==>9\n",
            "평균점수==>10\n",
            "심사위원 평균점수: 9.2\n"
          ]
        }
      ]
    },
    {
      "cell_type": "code",
      "source": [
        "toss = []\n",
        "\n",
        "for i in range(10000) :\n",
        "  comA = random.choice([\"가위\",\"바위\",\"보\"])\n",
        "  comB = random.choice([\"가위\",\"바위\",\"보\"])\n",
        "\n",
        "  if (comA == comB) :\n",
        "    toss.append(\"비김\")\n",
        "  elif (comA == \"가위\") and (comB == \"보\") or \\\n",
        "       (comA == \"바위\") and (comB == \"가위\") or \\\n",
        "       (comA == \"보\") and (comB == \"바위\") :\n",
        "      toss.append(\"A\")\n",
        "  else :\n",
        "      toss.append(\"B\")\n",
        "  #print(comA, comB, toss[i])\n",
        "\n",
        "aWin = toss.count(\"A\")\n",
        "bWin = toss.count(\"B\")"
      ],
      "metadata": {
        "id": "tkZ9lceA_HDH"
      },
      "execution_count": 32,
      "outputs": []
    },
    {
      "cell_type": "code",
      "source": [
        "singer = {}\n",
        "singer['이름'] = '트와이스'\n",
        "singer['구성원수'] = 9\n",
        "singer['데뷰'] = '서바이벌 식스틴'\n",
        "singer['대표곡'] = 'CRY FOR ME'\n",
        "\n",
        "for k in singer.keys() :\n",
        "  print(k, \"==>\",singer[k])"
      ],
      "metadata": {
        "colab": {
          "base_uri": "https://localhost:8080/"
        },
        "id": "wfqmudi-M7OA",
        "outputId": "75cd00d7-f3ca-4828-da49-3493b0eaddc8"
      },
      "execution_count": 33,
      "outputs": [
        {
          "output_type": "stream",
          "name": "stdout",
          "text": [
            "이름 ==> 트와이스\n",
            "구성원수 ==> 9\n",
            "데뷰 ==> 서바이벌 식스틴\n",
            "대표곡 ==> CRY FOR ME\n"
          ]
        }
      ]
    }
  ]
}