{
  "nbformat": 4,
  "nbformat_minor": 0,
  "metadata": {
    "colab": {
      "name": "mysecond.ipynb",
      "provenance": [],
      "authorship_tag": "ABX9TyOzpKwuUiCi+Lg9Y1t7G6ka",
      "include_colab_link": true
    },
    "kernelspec": {
      "name": "python3",
      "display_name": "Python 3"
    },
    "language_info": {
      "name": "python"
    }
  },
  "cells": [
    {
      "cell_type": "markdown",
      "metadata": {
        "id": "view-in-github",
        "colab_type": "text"
      },
      "source": [
        "<a href=\"https://colab.research.google.com/github/kimjinsun01/colab/blob/main/mysecond.ipynb\" target=\"_parent\"><img src=\"https://colab.research.google.com/assets/colab-badge.svg\" alt=\"Open In Colab\"/></a>"
      ]
    },
    {
      "cell_type": "code",
      "execution_count": 1,
      "metadata": {
        "colab": {
          "base_uri": "https://localhost:8080/"
        },
        "id": "9SgsAtcDQpDH",
        "outputId": "4fef23d1-fc34-401c-bbea-6edf9ba90835"
      },
      "outputs": [
        {
          "output_type": "stream",
          "name": "stdout",
          "text": [
            "두 번째 파일입니다.\n",
            "난생처음 파이썬을 공부하지만, 점점 익숙해지는 것 같아요. :\n"
          ]
        }
      ],
      "source": [
        "print(\"두 번째 파일입니다.\")\n",
        "print(\"난생처음 파이썬을 공부하지만, 점점 익숙해지는 것 같아요. :\")"
      ]
    }
  ]
}