{
  "nbformat": 4,
  "nbformat_minor": 0,
  "metadata": {
    "colab": {
      "name": "Lession4.ipynb",
      "provenance": [],
      "authorship_tag": "ABX9TyNKx2rnB2khA4l8O6JDNIO0",
      "include_colab_link": true
    },
    "kernelspec": {
      "name": "python3",
      "display_name": "Python 3"
    },
    "language_info": {
      "name": "python"
    }
  },
  "cells": [
    {
      "cell_type": "markdown",
      "metadata": {
        "id": "view-in-github",
        "colab_type": "text"
      },
      "source": [
        "<a href=\"https://colab.research.google.com/github/kimjinsun01/colab/blob/main/Lession4.ipynb\" target=\"_parent\"><img src=\"https://colab.research.google.com/assets/colab-badge.svg\" alt=\"Open In Colab\"/></a>"
      ]
    },
    {
      "cell_type": "code",
      "source": [
        ""
      ],
      "metadata": {
        "id": "3jRgieDdOQGn"
      },
      "execution_count": null,
      "outputs": []
    },
    {
      "cell_type": "code",
      "execution_count": null,
      "metadata": {
        "id": "jr5-C1CnNLHU"
      },
      "outputs": [],
      "source": [
        "데이터 타입 예제"
      ]
    },
    {
      "cell_type": "code",
      "source": [
        "var1=100\n",
        "var2 = 3.14\n",
        "var3 = \"파이썬\"\n",
        "var4 = True\n",
        "\n",
        "print(var1,\"의 타입은\", type(var1))\n",
        "print(var2,\"의 타입은\", type(var2))\n",
        "print(var3,\"의 타입은\", type(var3))\n",
        "print(var4,\"의 타입은\", type(var4))"
      ],
      "metadata": {
        "colab": {
          "base_uri": "https://localhost:8080/"
        },
        "id": "B0_EqJqcNZG5",
        "outputId": "8ff0eb78-9f49-4db9-8f1e-44cf9e331cf5"
      },
      "execution_count": 1,
      "outputs": [
        {
          "output_type": "stream",
          "name": "stdout",
          "text": [
            "100 의 타입은 <class 'int'>\n",
            "3.14 의 타입은 <class 'float'>\n",
            "파이썬 의 타입은 <class 'str'>\n",
            "True 의 타입은 <class 'bool'>\n"
          ]
        }
      ]
    }
  ]
}