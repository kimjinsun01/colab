{
  "nbformat": 4,
  "nbformat_minor": 0,
  "metadata": {
    "colab": {
      "name": "30109-김진선(논술형).ipynb",
      "provenance": [],
      "authorship_tag": "ABX9TyOSEMICKPCCAm8zRMucDXNV",
      "include_colab_link": true
    },
    "kernelspec": {
      "name": "python3",
      "display_name": "Python 3"
    },
    "language_info": {
      "name": "python"
    }
  },
  "cells": [
    {
      "cell_type": "markdown",
      "metadata": {
        "id": "view-in-github",
        "colab_type": "text"
      },
      "source": [
        "<a href=\"https://colab.research.google.com/github/kimjinsun01/colab/blob/main/30109_%EA%B9%80%EC%A7%84%EC%84%A0(%EB%85%BC%EC%88%A0%ED%98%95).ipynb\" target=\"_parent\"><img src=\"https://colab.research.google.com/assets/colab-badge.svg\" alt=\"Open In Colab\"/></a>"
      ]
    },
    {
      "cell_type": "markdown",
      "source": [
        "2022학년도 응용프로그래밍 개발 - 논술형\n",
        "\n",
        "컴퓨터과 3학년 1반 09번 김진선"
      ],
      "metadata": {
        "id": "paagCsvz6qdr"
      }
    },
    {
      "cell_type": "code",
      "source": [
        "num1 = 500\n",
        "num2 = 200\n",
        "\n",
        "result1 = num1 + num2\n",
        "result2 = num1 - num2\n",
        "result3 = num1 * num2\n",
        "result4 = num1 / num2\n",
        "result5 = num1 // num2\n",
        "result6 = num1 % num2\n",
        "result7 = num1 | num2\n",
        "\n",
        "print(\"result1 = num1 + num2 =\",result1)\n",
        "print(\"result2 = num1 - num2 =\",result2)\n",
        "print(\"result3 = num1 * num2 =\",result3)\n",
        "print(\"result4 = num1 / num2 =\",result4)\n",
        "print(\"result5 = num1 // num2 =\",result5)\n",
        "print(\"result6 = num1 % num2 =\",result6)\n",
        "print(\"result7 = num1 | num2 =\",result7)"
      ],
      "metadata": {
        "colab": {
          "base_uri": "https://localhost:8080/"
        },
        "id": "H1Zno0yN6wOl",
        "outputId": "b2107ec3-dbcc-4c38-c1f9-7deb030791f3"
      },
      "execution_count": 18,
      "outputs": [
        {
          "output_type": "stream",
          "name": "stdout",
          "text": [
            "result1 = num1 + num2 = 700\n",
            "result2 = num1 - num2 = 300\n",
            "result3 = num1 * num2 = 100000\n",
            "result4 = num1 / num2 = 2.5\n",
            "result5 = num1 // num2 = 2\n",
            "result6 = num1 % num2 = 100\n",
            "result7 = num1 | num2 = 508\n"
          ]
        }
      ]
    }
  ]
}