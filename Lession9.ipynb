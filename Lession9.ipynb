{
  "nbformat": 4,
  "nbformat_minor": 0,
  "metadata": {
    "colab": {
      "provenance": [],
      "authorship_tag": "ABX9TyN3Z7KpmVNq/GspSJXq40S6",
      "include_colab_link": true
    },
    "kernelspec": {
      "name": "python3",
      "display_name": "Python 3"
    },
    "language_info": {
      "name": "python"
    }
  },
  "cells": [
    {
      "cell_type": "markdown",
      "metadata": {
        "id": "view-in-github",
        "colab_type": "text"
      },
      "source": [
        "<a href=\"https://colab.research.google.com/github/kimjinsun01/colab/blob/main/Lession9.ipynb\" target=\"_parent\"><img src=\"https://colab.research.google.com/assets/colab-badge.svg\" alt=\"Open In Colab\"/></a>"
      ]
    },
    {
      "cell_type": "code",
      "execution_count": 2,
      "metadata": {
        "colab": {
          "base_uri": "https://localhost:8080/"
        },
        "id": "9RprRGae4PK3",
        "outputId": "48bb5df8-ebd6-452b-a21f-37a6f2d95ac8"
      },
      "outputs": [
        {
          "output_type": "stream",
          "name": "stdout",
          "text": [
            "100과 200의 plus()함수 결과는  300\n"
          ]
        }
      ],
      "source": [
        "def plus(v1, v2):\n",
        "  result = 0\n",
        "  result = v1 +  v2\n",
        "\n",
        "  return result\n",
        "\n",
        "hap = 0\n",
        "\n",
        "hap = plus(100,200)\n",
        "print(\"100과 200의 plus()함수 결과는 \",hap)"
      ]
    },
    {
      "cell_type": "code",
      "source": [
        "def calc (v1, v2, op) :\n",
        "  result = 0\n",
        "  if op == '++' :\n",
        "    result = v1 + v2\n",
        "  elif op == '-' :\n",
        "    result = v1 - v2\n",
        "  elif op == '*' :\n",
        "    result = v1 * v2\n",
        "  elif op == '/' :\n",
        "    result = v1 / v2\n",
        "  return result\n",
        "\n",
        "res = 0\n",
        "var1, var2, oper = 0, 0, \"\"\n",
        "\n",
        "oper = input(\"계산 입력 ( +,-,*, / ) : \")\n",
        "var1 = int(input(\"첫 번째 숫자 입력 : \"))\n",
        "var2 = int(input(\"두 번째 숫자 입력 : \"))\n",
        "\n",
        "res = calc (var1, var2, oper)\n",
        "print(\"## 계산기 : \", var1, oper, var2, \"=\", res)"
      ],
      "metadata": {
        "colab": {
          "base_uri": "https://localhost:8080/"
        },
        "id": "F58o_j9_5M6K",
        "outputId": "e93eeac3-f537-4f43-e2cd-67cc2b3c4e0d"
      },
      "execution_count": 3,
      "outputs": [
        {
          "output_type": "stream",
          "name": "stdout",
          "text": [
            "계산 입력 ( +,-,*, / ) : -\n",
            "첫 번째 숫자 입력 : 55\n",
            "두 번째 숫자 입력 : 33\n",
            "## 계산기 :  55 - 33 = 22\n"
          ]
        }
      ]
    },
    {
      "cell_type": "code",
      "source": [
        "import random\n",
        "\n",
        "def lottoFunc() :\n",
        "  lottoNum = random.randint(1, 45)\n",
        "  return lottoNum\n",
        "\n",
        "lottoList = []\n",
        "num = 0\n",
        "\n",
        "print(\"** 로또 추첨을 시작합니다. ** \\n\");\n",
        "while True :\n",
        "  num = lottoFunc()\n",
        "  if num in lottoList :\n",
        "    continue\n",
        "  else :\n",
        "    lottoList.append(num)\n",
        "\n",
        "  if len(lottoList) == 6 :\n",
        "    break\n",
        "\n",
        "print(\"오늘의 로또 번호 ==> \", end=\"\")\n",
        "lottoList.sort()\n",
        "\n",
        "for i in range(6) :\n",
        "  print(lottoList[i], \" \", end=\"\")"
      ],
      "metadata": {
        "colab": {
          "base_uri": "https://localhost:8080/"
        },
        "id": "2kH3uyUS9rNw",
        "outputId": "cb92bb84-5ee5-446d-de3c-3d9b5708fa18"
      },
      "execution_count": 13,
      "outputs": [
        {
          "output_type": "stream",
          "name": "stdout",
          "text": [
            "** 로또 추첨을 시작합니다. ** \n",
            "\n",
            "오늘의 로또 번호 ==> 18  22  25  28  29  38  "
          ]
        }
      ]
    }
  ]
}