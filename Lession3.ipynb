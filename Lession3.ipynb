{
  "nbformat": 4,
  "nbformat_minor": 0,
  "metadata": {
    "colab": {
      "name": "Lession3.ipynb",
      "provenance": [],
      "authorship_tag": "ABX9TyPj3R9U7xK207OLCuyfZKAk",
      "include_colab_link": true
    },
    "kernelspec": {
      "name": "python3",
      "display_name": "Python 3"
    },
    "language_info": {
      "name": "python"
    }
  },
  "cells": [
    {
      "cell_type": "markdown",
      "metadata": {
        "id": "view-in-github",
        "colab_type": "text"
      },
      "source": [
        "<a href=\"https://colab.research.google.com/github/kimjinsun01/colab/blob/main/Lession3.ipynb\" target=\"_parent\"><img src=\"https://colab.research.google.com/assets/colab-badge.svg\" alt=\"Open In Colab\"/></a>"
      ]
    },
    {
      "cell_type": "markdown",
      "source": [
        "연산자 예제"
      ],
      "metadata": {
        "id": "QOdvBklc4Z3m"
      }
    },
    {
      "cell_type": "code",
      "source": [
        "num1 = int(input(\"나눠지는 수 ==> \"))\n",
        "num2 = int(input(\"나누는 수 ==> \"))\n",
        "q = num1 // num2\n",
        "r = num1 % num2\n",
        "print(num1, '을(를)', num2, '(으)로 나눈 몫은 ', q, '입니다.')\n",
        "print(num1, '을1(를)', num2, '(으)로 나눈 나머지는 ', r, '입니다.')"
      ],
      "metadata": {
        "colab": {
          "base_uri": "https://localhost:8080/"
        },
        "id": "PgH3Z4iO4buH",
        "outputId": "5213a97f-9a35-49f4-ac43-8de47c254f2b"
      },
      "execution_count": null,
      "outputs": [
        {
          "output_type": "stream",
          "name": "stdout",
          "text": [
            "나눠지는 수 ==> 25\n",
            "나누는 수 ==> 10\n",
            "25 을(를) 10 (으)로 나눈 몫은  2 입니다.\n",
            "25 을1(를) 10 (으)로 나눈 나머지는  5 입니다.\n"
          ]
        }
      ]
    },
    {
      "cell_type": "code",
      "source": [
        "pound = int(input(\"파운드(lb)를 입력하세요 : \"))\n",
        "kg = pound * 0.453592\n",
        "print(pound, \"파운드(lb)는\", round(kg, 5), \"킬로그램(kg)입니다.\")\n",
        "\n",
        "kg = int(input(\"킬로그램(kg)을 입력하세요 : \"))\n",
        "pound = kg * 2.204623\n",
        "print(kg, \"킬로그램(kg)은\", round(pound, 5), \"파운드(lb)입니다.\")"
      ],
      "metadata": {
        "colab": {
          "base_uri": "https://localhost:8080/"
        },
        "id": "hsGVgnwx67Gh",
        "outputId": "50f47b95-13b1-4259-d440-a8fc6a57fa88"
      },
      "execution_count": 10,
      "outputs": [
        {
          "output_type": "stream",
          "name": "stdout",
          "text": [
            "파운드(lb)를 입력하세요 : 15\n",
            "15 파운드(lb)는 6.80388 킬로그램(kg)입니다.\n",
            "킬로그램(kg)을 입력하세요 : 15\n",
            "15 킬로그램(kg)은 33.06935 파운드(lb)입니다.\n"
          ]
        }
      ]
    },
    {
      "cell_type": "code",
      "source": [
        "total = 0\n",
        "\n",
        "#구입한 물품\n",
        "total -= 900 * 10 #삼각김밥 10개\n",
        "total -= 3500 * 5 #도시락 5개\n",
        "\n",
        "#판매한 물품\n",
        "total += 1800 * 2 #바나나맛 우유\n",
        "total += 4000 * 4 #도시락 4개\n",
        "total += 1500 #콜라 1개\n",
        "total += 2000 * 4 #새우깡 4개\n",
        "total += 1800 * 5 #캔커피 5개\n",
        "\n",
        "print(\"오늘 총 매출액은 \", total, \"원입니다.\")"
      ],
      "metadata": {
        "colab": {
          "base_uri": "https://localhost:8080/"
        },
        "id": "ILjfJ4nv9eRR",
        "outputId": "a272bb69-7960-4e39-d066-07e3bf2e0082"
      },
      "execution_count": 12,
      "outputs": [
        {
          "output_type": "stream",
          "name": "stdout",
          "text": [
            "오늘 총 매출액은  11600 원입니다.\n"
          ]
        }
      ]
    },
    {
      "cell_type": "code",
      "source": [
        "python = 3\n",
        "mobile = 2\n",
        "excel = 1\n",
        "\n",
        "A = 4.5\n",
        "A0 = 4.0\n",
        "B = 3.5\n",
        "\n",
        "avg = ((python * B) + (mobile * A0) + (excel * A)) / (python + mobile + excel)\n",
        "print(\"평균 학점 :\", avg)"
      ],
      "metadata": {
        "colab": {
          "base_uri": "https://localhost:8080/"
        },
        "id": "CshXwYKNBh7u",
        "outputId": "eba85ec7-3ac7-4d3f-90d5-ce7ae60ee6d8"
      },
      "execution_count": 13,
      "outputs": [
        {
          "output_type": "stream",
          "name": "stdout",
          "text": [
            "평균 학점 : 3.8333333333333335\n"
          ]
        }
      ]
    },
    {
      "cell_type": "code",
      "source": [
        "score = int(input(\"필기 시험점수를 입력하세요 ==>\"))\n",
        "print(score >= 70)"
      ],
      "metadata": {
        "colab": {
          "base_uri": "https://localhost:8080/"
        },
        "id": "57dJ3tcaE2G4",
        "outputId": "91e00a41-29a5-4e01-847d-d2e082cf4b32"
      },
      "execution_count": 16,
      "outputs": [
        {
          "output_type": "stream",
          "name": "stdout",
          "text": [
            "필기 시험점수를 입력하세요 ==>80\n",
            "True\n"
          ]
        }
      ]
    },
    {
      "cell_type": "code",
      "source": [
        "#!pip3 install Colabturtle\n",
        "import ColabTurtle.Turtle as turtle\n",
        "\n",
        "turtle.initializeTurtle()\n",
        "turtle.right(45)\n",
        "turtle.right(90)\n",
        "turtle.forward(200)\n",
        "turtle.right(90)\n",
        "turtle.forward(200)\n",
        "turtle.right(90)\n",
        "turtle.forward(200)\n",
        "turtle.right(35)\n",
        "turtle.forward(250)\n",
        "turtle.right(90)\n",
        "turtle.forward(250)"
      ],
      "metadata": {
        "colab": {
          "base_uri": "https://localhost:8080/",
          "height": 520
        },
        "id": "LkJAidonHReH",
        "outputId": "f43197b8-cbd1-4f62-e9d8-8501b423f081"
      },
      "execution_count": 49,
      "outputs": [
        {
          "output_type": "display_data",
          "data": {
            "text/plain": [
              "<IPython.core.display.HTML object>"
            ],
            "text/html": [
              "\n",
              "      <svg width=\"800\" height=\"500\">\n",
              "        <rect width=\"100%\" height=\"100%\" fill=\"black\"/>\n",
              "        <line x1=\"400\" y1=\"250\" x2=\"541.421\" y2=\"391.421\" stroke-linecap=\"round\" style=\"stroke:white;stroke-width:4\"/><line x1=\"541.421\" y1=\"391.421\" x2=\"400.0\" y2=\"532.842\" stroke-linecap=\"round\" style=\"stroke:white;stroke-width:4\"/><line x1=\"400.0\" y1=\"532.842\" x2=\"258.579\" y2=\"391.421\" stroke-linecap=\"round\" style=\"stroke:white;stroke-width:4\"/><line x1=\"258.579\" y1=\"391.421\" x2=\"215.167\" y2=\"145.219\" stroke-linecap=\"round\" style=\"stroke:white;stroke-width:4\"/><line x1=\"215.167\" y1=\"145.219\" x2=\"461.369\" y2=\"101.807\" stroke-linecap=\"round\" style=\"stroke:white;stroke-width:4\"/>\n",
              "        <g visibility=visible transform=\"rotate(440,461.369,101.807) translate(443.369, 83.807)\">\n",
              "<path style=\" stroke:none;fill-rule:evenodd;fill:white;fill-opacity:1;\" d=\"M 18.214844 0.632812 C 16.109375 1.800781 15.011719 4.074219 15.074219 7.132812 L 15.085938 7.652344 L 14.785156 7.496094 C 13.476562 6.824219 11.957031 6.671875 10.40625 7.066406 C 8.46875 7.550781 6.515625 9.15625 4.394531 11.992188 C 3.0625 13.777344 2.679688 14.636719 3.042969 15.027344 L 3.15625 15.152344 L 3.519531 15.152344 C 4.238281 15.152344 4.828125 14.886719 8.1875 13.039062 C 9.386719 12.378906 10.371094 11.839844 10.378906 11.839844 C 10.386719 11.839844 10.355469 11.929688 10.304688 12.035156 C 9.832031 13.09375 9.257812 14.820312 8.96875 16.078125 C 7.914062 20.652344 8.617188 24.53125 11.070312 27.660156 C 11.351562 28.015625 11.363281 27.914062 10.972656 28.382812 C 8.925781 30.84375 7.945312 33.28125 8.238281 35.1875 C 8.289062 35.527344 8.28125 35.523438 8.917969 35.523438 C 10.941406 35.523438 13.074219 34.207031 15.136719 31.6875 C 15.359375 31.417969 15.328125 31.425781 15.5625 31.574219 C 16.292969 32.042969 18.023438 32.964844 18.175781 32.964844 C 18.335938 32.964844 19.941406 32.210938 20.828125 31.71875 C 20.996094 31.625 21.136719 31.554688 21.136719 31.558594 C 21.203125 31.664062 21.898438 32.414062 22.222656 32.730469 C 23.835938 34.300781 25.5625 35.132812 27.582031 35.300781 C 27.90625 35.328125 27.9375 35.308594 28.007812 34.984375 C 28.382812 33.242188 27.625 30.925781 25.863281 28.425781 L 25.542969 27.96875 L 25.699219 27.785156 C 28.945312 23.960938 29.132812 18.699219 26.257812 11.96875 L 26.207031 11.84375 L 27.945312 12.703125 C 31.53125 14.476562 32.316406 14.800781 33.03125 14.800781 C 33.976562 14.800781 33.78125 13.9375 32.472656 12.292969 C 28.519531 7.355469 25.394531 5.925781 21.921875 7.472656 L 21.558594 7.636719 L 21.578125 7.542969 C 21.699219 6.992188 21.761719 5.742188 21.699219 5.164062 C 21.496094 3.296875 20.664062 1.964844 19.003906 0.855469 C 18.480469 0.503906 18.457031 0.5 18.214844 0.632812\"/>\n",
              "</g>\n",
              "      </svg>\n",
              "    "
            ]
          },
          "metadata": {}
        }
      ]
    },
    {
      "cell_type": "code",
      "source": [
        "angle = int(input(\"지훈이의 회전 각도 : \"))\n",
        "distance = int(input(\"지훈이의 이동 거리 : \"))\n",
        "\n",
        "turtle.right(angle)\n",
        "turtle.forward(distance)"
      ],
      "metadata": {
        "colab": {
          "base_uri": "https://localhost:8080/",
          "height": 557
        },
        "id": "PcSQvowUK2EC",
        "outputId": "77e576b8-e4bd-4f6b-a419-9a3bffc0196f"
      },
      "execution_count": 55,
      "outputs": [
        {
          "name": "stdout",
          "output_type": "stream",
          "text": [
            "지훈이의 회전 각도 : 80\n",
            "지훈이의 이동 거리 : 100\n"
          ]
        },
        {
          "output_type": "display_data",
          "data": {
            "text/plain": [
              "<IPython.core.display.HTML object>"
            ],
            "text/html": [
              "\n",
              "      <svg width=\"800\" height=\"500\">\n",
              "        <rect width=\"100%\" height=\"100%\" fill=\"black\"/>\n",
              "        <line x1=\"400\" y1=\"250\" x2=\"541.421\" y2=\"391.421\" stroke-linecap=\"round\" style=\"stroke:white;stroke-width:4\"/><line x1=\"541.421\" y1=\"391.421\" x2=\"400.0\" y2=\"532.842\" stroke-linecap=\"round\" style=\"stroke:white;stroke-width:4\"/><line x1=\"400.0\" y1=\"532.842\" x2=\"258.579\" y2=\"391.421\" stroke-linecap=\"round\" style=\"stroke:white;stroke-width:4\"/><line x1=\"258.579\" y1=\"391.421\" x2=\"215.167\" y2=\"145.219\" stroke-linecap=\"round\" style=\"stroke:white;stroke-width:4\"/><line x1=\"215.167\" y1=\"145.219\" x2=\"461.369\" y2=\"101.807\" stroke-linecap=\"round\" style=\"stroke:white;stroke-width:4\"/><line x1=\"461.369\" y1=\"101.807\" x2=\"264.407\" y2=\"136.537\" stroke-linecap=\"round\" style=\"stroke:white;stroke-width:4\"/><line x1=\"264.407\" y1=\"136.537\" x2=\"2234.023\" y2=\"-210.759\" stroke-linecap=\"round\" style=\"stroke:white;stroke-width:4\"/><line x1=\"2234.023\" y1=\"-210.759\" x2=\"1446.177\" y2=\"-71.84\" stroke-linecap=\"round\" style=\"stroke:white;stroke-width:4\"/><line x1=\"1446.177\" y1=\"-71.84\" x2=\"1741.619\" y2=\"-123.934\" stroke-linecap=\"round\" style=\"stroke:white;stroke-width:4\"/><line x1=\"1741.619\" y1=\"-123.934\" x2=\"1775.821\" y2=\"-29.965\" stroke-linecap=\"round\" style=\"stroke:white;stroke-width:4\"/>\n",
              "        <g visibility=visible transform=\"rotate(160,1775.821,-29.965) translate(1757.821, -47.965)\">\n",
              "<path style=\" stroke:none;fill-rule:evenodd;fill:white;fill-opacity:1;\" d=\"M 18.214844 0.632812 C 16.109375 1.800781 15.011719 4.074219 15.074219 7.132812 L 15.085938 7.652344 L 14.785156 7.496094 C 13.476562 6.824219 11.957031 6.671875 10.40625 7.066406 C 8.46875 7.550781 6.515625 9.15625 4.394531 11.992188 C 3.0625 13.777344 2.679688 14.636719 3.042969 15.027344 L 3.15625 15.152344 L 3.519531 15.152344 C 4.238281 15.152344 4.828125 14.886719 8.1875 13.039062 C 9.386719 12.378906 10.371094 11.839844 10.378906 11.839844 C 10.386719 11.839844 10.355469 11.929688 10.304688 12.035156 C 9.832031 13.09375 9.257812 14.820312 8.96875 16.078125 C 7.914062 20.652344 8.617188 24.53125 11.070312 27.660156 C 11.351562 28.015625 11.363281 27.914062 10.972656 28.382812 C 8.925781 30.84375 7.945312 33.28125 8.238281 35.1875 C 8.289062 35.527344 8.28125 35.523438 8.917969 35.523438 C 10.941406 35.523438 13.074219 34.207031 15.136719 31.6875 C 15.359375 31.417969 15.328125 31.425781 15.5625 31.574219 C 16.292969 32.042969 18.023438 32.964844 18.175781 32.964844 C 18.335938 32.964844 19.941406 32.210938 20.828125 31.71875 C 20.996094 31.625 21.136719 31.554688 21.136719 31.558594 C 21.203125 31.664062 21.898438 32.414062 22.222656 32.730469 C 23.835938 34.300781 25.5625 35.132812 27.582031 35.300781 C 27.90625 35.328125 27.9375 35.308594 28.007812 34.984375 C 28.382812 33.242188 27.625 30.925781 25.863281 28.425781 L 25.542969 27.96875 L 25.699219 27.785156 C 28.945312 23.960938 29.132812 18.699219 26.257812 11.96875 L 26.207031 11.84375 L 27.945312 12.703125 C 31.53125 14.476562 32.316406 14.800781 33.03125 14.800781 C 33.976562 14.800781 33.78125 13.9375 32.472656 12.292969 C 28.519531 7.355469 25.394531 5.925781 21.921875 7.472656 L 21.558594 7.636719 L 21.578125 7.542969 C 21.699219 6.992188 21.761719 5.742188 21.699219 5.164062 C 21.496094 3.296875 20.664062 1.964844 19.003906 0.855469 C 18.480469 0.503906 18.457031 0.5 18.214844 0.632812\"/>\n",
              "</g>\n",
              "      </svg>\n",
              "    "
            ]
          },
          "metadata": {}
        }
      ]
    }
  ]
}