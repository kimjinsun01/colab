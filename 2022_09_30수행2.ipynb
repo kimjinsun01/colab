{
  "nbformat": 4,
  "nbformat_minor": 0,
  "metadata": {
    "colab": {
      "provenance": [],
      "authorship_tag": "ABX9TyMEwPXd4dyxwYGRTyPhXOgY",
      "include_colab_link": true
    },
    "kernelspec": {
      "name": "python3",
      "display_name": "Python 3"
    },
    "language_info": {
      "name": "python"
    }
  },
  "cells": [
    {
      "cell_type": "markdown",
      "metadata": {
        "id": "view-in-github",
        "colab_type": "text"
      },
      "source": [
        "<a href=\"https://colab.research.google.com/github/kimjinsun01/colab/blob/main/2022_09_30%EC%88%98%ED%96%892.ipynb\" target=\"_parent\"><img src=\"https://colab.research.google.com/assets/colab-badge.svg\" alt=\"Open In Colab\"/></a>"
      ]
    },
    {
      "cell_type": "code",
      "source": [
        "text = \"Python\"\n",
        "print(\"원본 문자열 ==>\",text)\n",
        "\n",
        "ss2 = \"\"\n",
        "ss2 += text[0].lower()\n",
        "ss2 += text[1].upper()\n",
        "ss2 += text[2].upper()\n",
        "ss2 += text[3].upper()\n",
        "ss2 += text[4].upper()\n",
        "ss2 += text[5].upper()\n",
        "print(\"변환 문자열 ==> \",end='')\n",
        "print(ss2)"
      ],
      "metadata": {
        "colab": {
          "base_uri": "https://localhost:8080/"
        },
        "id": "3EZXos7qt7Q_",
        "outputId": "7c914bef-18e0-4b0f-874b-6d86eab70ee7"
      },
      "execution_count": 12,
      "outputs": [
        {
          "output_type": "stream",
          "name": "stdout",
          "text": [
            "원본 문자열 ==> Python\n",
            "변환 문자열 ==> pYTHON\n"
          ]
        }
      ]
    },
    {
      "cell_type": "code",
      "source": [
        "text = \"트와이스\"\n",
        "print(\"원본 문자열 ==>\", text)\n",
        "\n",
        "print(\"반대 문자열 ==> \", end='')\n",
        "print(text[3], end='')\n",
        "print(text[2], end='')\n",
        "print(text[1], end='')\n",
        "print(text[0], end='')"
      ],
      "metadata": {
        "colab": {
          "base_uri": "https://localhost:8080/"
        },
        "id": "GeE6UPpCxlJA",
        "outputId": "15bb5ed0-9824-4fbd-a9e0-ffc51a2c1739"
      },
      "execution_count": 13,
      "outputs": [
        {
          "output_type": "stream",
          "name": "stdout",
          "text": [
            "원본 문자열 ==> 트와이스\n",
            "반대 문자열 ==> 스이와트"
          ]
        }
      ]
    },
    {
      "cell_type": "code",
      "source": [
        "text1 = input(\"\")\n",
        "text2 = input(\"\")\n",
        "text1_len = len(text1)\n",
        "text2_len = len(text2)\n",
        "text_len = text1_len - text2_len\n",
        "print(\"두 문자열의 길이 차이는\",text_len,\"입니다.\")"
      ],
      "metadata": {
        "colab": {
          "base_uri": "https://localhost:8080/"
        },
        "id": "Gx7jgLNw63rG",
        "outputId": "27942d64-9695-45f6-ea85-14fe512bd6cf"
      },
      "execution_count": 17,
      "outputs": [
        {
          "output_type": "stream",
          "name": "stdout",
          "text": [
            "난생처음 파이썬\n",
            "First Python\n",
            "두 문자열의 길이 차이는 -4 입니다.\n"
          ]
        }
      ]
    },
    {
      "cell_type": "code",
      "source": [
        "lb_input = int(input(\"파운드(lb)를 입력하세요 :\"))\n",
        "lb_to_kg = lb_input * 0.453591\n",
        "print(lb_input,\"파운드(lb)는\",round(lb_to_kg, 5),\"킬로그램(kg)입니다.\")\n",
        "kg_input = int(input(\"킬로그램(kg)을 입력하세요 :\"))\n",
        "lb_to_kg = lb_input * 2.204622\n",
        "print(lb_input,\"킬로그램(kg)은\",round(lb_to_kg, 5),\"파운드(lb)입니다.\")"
      ],
      "metadata": {
        "colab": {
          "base_uri": "https://localhost:8080/"
        },
        "id": "ln1X1XOH8drn",
        "outputId": "1115cb8e-c9d0-4113-ddfd-2feba82e55fe"
      },
      "execution_count": 30,
      "outputs": [
        {
          "output_type": "stream",
          "name": "stdout",
          "text": [
            "파운드(lb)를 입력하세요 :15\n",
            "15 파운드(lb)는 6.80387 킬로그램(kg)입니다.\n",
            "킬로그램(kg)을 입력하세요 :15\n",
            "15 킬로그램(kg)은 33.06933 파운드(lb)입니다.\n"
          ]
        }
      ]
    }
  ]
}