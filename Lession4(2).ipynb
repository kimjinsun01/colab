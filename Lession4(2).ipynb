{
  "nbformat": 4,
  "nbformat_minor": 0,
  "metadata": {
    "colab": {
      "name": "Lession4(2).ipynb",
      "provenance": [],
      "authorship_tag": "ABX9TyOHB4K0b4Z2zAAcFO28zj6p",
      "include_colab_link": true
    },
    "kernelspec": {
      "name": "python3",
      "display_name": "Python 3"
    },
    "language_info": {
      "name": "python"
    }
  },
  "cells": [
    {
      "cell_type": "markdown",
      "metadata": {
        "id": "view-in-github",
        "colab_type": "text"
      },
      "source": [
        "<a href=\"https://colab.research.google.com/github/kimjinsun01/colab/blob/main/Lession4(2).ipynb\" target=\"_parent\"><img src=\"https://colab.research.google.com/assets/colab-badge.svg\" alt=\"Open In Colab\"/></a>"
      ]
    },
    {
      "cell_type": "markdown",
      "source": [
        "4장 예제"
      ],
      "metadata": {
        "id": "dpEc1Y4Fz8TX"
      }
    },
    {
      "cell_type": "code",
      "source": [
        "print(\"\\n줄바꿈\\n연습 \")\n",
        "print(\"\\t탭키\\t연습 \")\n",
        "print(\"어떤 글자를 \\\"강조\\\"하는 효과1\")\n",
        "print(\"어떤 글자를 \\'강조\\'하는 효과2\")\n",
        "print(\"\\\\\\\\ 백슬래시 2개 출력\")"
      ],
      "metadata": {
        "colab": {
          "base_uri": "https://localhost:8080/"
        },
        "id": "wmr8f4fDz-1g",
        "outputId": "9c32c7f1-c150-4e7b-cdf7-137ec562e6ac"
      },
      "execution_count": null,
      "outputs": [
        {
          "output_type": "stream",
          "name": "stdout",
          "text": [
            "\n",
            "줄바꿈\n",
            "연습 \n",
            "\t탭키\t연습 \n",
            "어떤 글자를 \"강조\"하는 효과1\n",
            "어떤 글자를 '강조'하는 효과2\n",
            "\\\\ 백슬래시 2개 출력\n"
          ]
        }
      ]
    },
    {
      "cell_type": "code",
      "source": [
        "var1 = input(\"첫 번째 문자열 ==>\")\n",
        "var2 = input(\"두 번쨰 문자열 ==>\")\n",
        "\n",
        "len1 = len(var1)\n",
        "len2 = len(var2)\n",
        "\n",
        "diff = len1 - len2\n",
        "\n",
        "print(\"두 문자열의 길이 차이는\", diff, \"입니다.\")"
      ],
      "metadata": {
        "colab": {
          "base_uri": "https://localhost:8080/"
        },
        "id": "0F21wcbj4y9U",
        "outputId": "d6118e49-86a5-427c-8621-76e29a63bfcb"
      },
      "execution_count": null,
      "outputs": [
        {
          "output_type": "stream",
          "name": "stdout",
          "text": [
            "첫 번째 문자열 ==>난생처음 파이썬\n",
            "두 번쨰 문자열 ==>First Python\n",
            "두 문자열의 길이 차이는 -4 입니다.\n"
          ]
        }
      ]
    },
    {
      "cell_type": "code",
      "source": [
        "str1 = input(\"문자열 입력 :\")\n",
        "\n",
        "print(\"입력된 문자열의 길이 : \", len(str1.upper))\n",
        "print(\"입력된 문자열을 대문자로 변환 : \",str1.upper())\n",
        "print(\"입력된 문자열을 소문자로 변환 : \",str1.lower())\n",
        "print(\"입력된 문자열 중 ansan 몇번 나오는지 : \",str1.count(\"ansan\"))\n",
        "print(\"입력된 문자열은 대문자인가요? \",str1.isupper())\n",
        "print(\"입력된 문자열을 소문 : \",str1.islower())\n"
      ],
      "metadata": {
        "id": "d_iUzeS5fOYm"
      },
      "execution_count": null,
      "outputs": []
    },
    {
      "cell_type": "code",
      "source": [
        "myList = [\"안산공고\",\"컴퓨터\",3, 1, 2022]\n",
        "#print(myList)\n",
        "print(myList[4])"
      ],
      "metadata": {
        "colab": {
          "base_uri": "https://localhost:8080/"
        },
        "id": "IyvKUHMWmG2a",
        "outputId": "81f9fe36-315c-4d82-ced9-6954627cd49f"
      },
      "execution_count": 25,
      "outputs": [
        {
          "output_type": "stream",
          "name": "stdout",
          "text": [
            "2022\n"
          ]
        }
      ]
    },
    {
      "cell_type": "markdown",
      "source": [
        "문자열 예제"
      ],
      "metadata": {
        "id": "E4oz3EgSmqP6"
      }
    },
    {
      "cell_type": "code",
      "source": [
        "str1 =\"Ansan Technical High School\"\n",
        "print(str1)\n",
        "print(str1[0:5])"
      ],
      "metadata": {
        "colab": {
          "base_uri": "https://localhost:8080/"
        },
        "id": "YJ2c2FO2mrXb",
        "outputId": "8c8137df-f9b8-4ddd-ebf1-1385370fa01b"
      },
      "execution_count": 30,
      "outputs": [
        {
          "output_type": "stream",
          "name": "stdout",
          "text": [
            "Ansan Technical High School\n",
            "Ansan\n"
          ]
        }
      ]
    },
    {
      "cell_type": "code",
      "source": [
        "while True :\n",
        "  str1 = input(\"문자열 입력 :\")\n",
        "  if str1 == \"a\" :\n",
        "    break\n",
        "print(str1)"
      ],
      "metadata": {
        "colab": {
          "base_uri": "https://localhost:8080/"
        },
        "id": "q_EEWCtWn6i4",
        "outputId": "7733b37d-48f2-461d-b455-b978b225c99a"
      },
      "execution_count": 31,
      "outputs": [
        {
          "output_type": "stream",
          "name": "stdout",
          "text": [
            "문자열 입력 :ansan\n",
            "문자열 입력 :ansan\n",
            "문자열 입력 :a\n",
            "a\n"
          ]
        }
      ]
    },
    {
      "cell_type": "code",
      "source": [
        "ss = \"트와이스\"\n",
        "print(\"원본 문자열 ==>\", ss)\n",
        "\n",
        "print(\"반대 문자열 ==> \", end='')\n",
        "print(ss[3], end='')\n",
        "print(ss[2], end='')\n",
        "print(ss[1], end='')\n",
        "print(ss[0], end='')"
      ],
      "metadata": {
        "colab": {
          "base_uri": "https://localhost:8080/"
        },
        "id": "coQMik2prSg2",
        "outputId": "22d30b9c-601a-4212-87ea-3f787ce717bf"
      },
      "execution_count": 32,
      "outputs": [
        {
          "output_type": "stream",
          "name": "stdout",
          "text": [
            "원본 문자열 ==> 트와이스\n",
            "반대 문자열 ==> 스이와트"
          ]
        }
      ]
    },
    {
      "cell_type": "code",
      "source": [
        "ss = \"Python\"\n",
        "print(\"원본 문자열 ==>\", ss)\n",
        "\n",
        "ss2 = \"\"\n",
        "\n",
        "ss2 += ss[0].lower()\n",
        "ss2 += ss[1].upper()\n",
        "ss2 += ss[2].upper()\n",
        "ss2 += ss[3].upper()\n",
        "ss2 += ss[4].upper()\n",
        "ss2 += ss[5].upper()\n",
        "\n",
        "print(\"변환 문자열 ==> \", end='')\n",
        "print(ss2)"
      ],
      "metadata": {
        "colab": {
          "base_uri": "https://localhost:8080/"
        },
        "id": "xfyyr2Q4s-sH",
        "outputId": "409ae2eb-4e9e-4e54-d4f3-a2e87fa60e89"
      },
      "execution_count": 33,
      "outputs": [
        {
          "output_type": "stream",
          "name": "stdout",
          "text": [
            "원본 문자열 ==> Python\n",
            "변환 문자열 ==> pYTHON\n"
          ]
        }
      ]
    },
    {
      "cell_type": "code",
      "source": [
        "singer = input(\"가수 이름을 입력 : \")\n",
        "singer_len = len(singer)\n",
        "r_singer =\"\"\n",
        "while singer_len > 0 :\n",
        "  r_singer = r_singer + singer[singer_len-1]\n",
        "  singer_len = singer_len - 1\n",
        "print(\"가수 이름을 꺼구로 출력 : \", r_singer)"
      ],
      "metadata": {
        "colab": {
          "base_uri": "https://localhost:8080/"
        },
        "id": "XUVXpW3JtUoW",
        "outputId": "de5b50f8-a688-4644-82ad-f0f9d4ca47e7"
      },
      "execution_count": 34,
      "outputs": [
        {
          "output_type": "stream",
          "name": "stdout",
          "text": [
            "가수 이름을 입력 : singer\n",
            "가수 이름을 꺼구로 출력 :  regnis\n"
          ]
        }
      ]
    },
    {
      "cell_type": "markdown",
      "source": [
        "입력받은 문자열에서 대문자는 소문자로 소문자는 대문자로 변환하는 프로그램"
      ],
      "metadata": {
        "id": "BcCKcwfMvu3v"
      }
    }
  ]
}