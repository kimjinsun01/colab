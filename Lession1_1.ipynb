{
  "nbformat": 4,
  "nbformat_minor": 0,
  "metadata": {
    "colab": {
      "name": "Lession1-1.ipynb",
      "provenance": [],
      "authorship_tag": "ABX9TyPBLAGG1MWfgiYx9A6C/oxs",
      "include_colab_link": true
    },
    "kernelspec": {
      "name": "python3",
      "display_name": "Python 3"
    },
    "language_info": {
      "name": "python"
    }
  },
  "cells": [
    {
      "cell_type": "markdown",
      "metadata": {
        "id": "view-in-github",
        "colab_type": "text"
      },
      "source": [
        "<a href=\"https://colab.research.google.com/github/kimjinsun01/colab/blob/main/Lession1_1.ipynb\" target=\"_parent\"><img src=\"https://colab.research.google.com/assets/colab-badge.svg\" alt=\"Open In Colab\"/></a>"
      ]
    },
    {
      "cell_type": "code",
      "execution_count": null,
      "metadata": {
        "id": "2mLCTHmbGY1g"
      },
      "outputs": [],
      "source": [
        ""
      ]
    },
    {
      "cell_type": "markdown",
      "source": [
        "# 파이썬 시작하기\n",
        "\n",
        "\n",
        "*   프로그래밍 언어란?\n",
        " * 컴퓨터와 스마트폰에 들어 있는 많은 소프트웨어\n",
        "  유튜브, 메시지, 전화, 카카오톡 등\n",
        " * 프로그램, 소프트웨어, 애플리케이션, 앱, 응용 프로그램 모두 동일한 용어입니다.\n",
        "\n",
        "\n",
        "* 프로그래밍\n",
        "\n",
        " * 프로그램을 만드는 작업\n",
        "* 프로그래밍 언어\n",
        " * 사람이 이해하는 말을 언어라고 부르듯이 컴퓨터가 이해하는 언어를 의미\n",
        "* 프로그래머\n",
        " * 프로그래밍 언어를 사용하여 소프트웨어나 앱을 만드는 작업을 가진 사람을 의미\n",
        "\n"
      ],
      "metadata": {
        "id": "L5kcaiNGGdLy"
      }
    },
    {
      "cell_type": "markdown",
      "source": [
        "예제"
      ],
      "metadata": {
        "id": "VsVEi26kPZdH"
      }
    },
    {
      "cell_type": "code",
      "source": [
        "print(100+300)"
      ],
      "metadata": {
        "colab": {
          "base_uri": "https://localhost:8080/"
        },
        "id": "1TT5KHqdPBJI",
        "outputId": "8e5a5a81-98da-404d-d9ba-c0d973204d13"
      },
      "execution_count": 3,
      "outputs": [
        {
          "output_type": "stream",
          "name": "stdout",
          "text": [
            "400\n"
          ]
        }
      ]
    },
    {
      "cell_type": "code",
      "source": [
        "print(200/3*4)"
      ],
      "metadata": {
        "colab": {
          "base_uri": "https://localhost:8080/"
        },
        "id": "86EvLK1cPVk4",
        "outputId": "fdeac581-8b73-4487-8678-29d13a59d4ab"
      },
      "execution_count": 4,
      "outputs": [
        {
          "output_type": "stream",
          "name": "stdout",
          "text": [
            "266.6666666666667\n"
          ]
        }
      ]
    },
    {
      "cell_type": "code",
      "source": [
        "print(\"난생처음 파이썬을\")\n",
        "print(\"열심히 공부 중입니다~\")\n",
        "print(\"이젠 저도 파이썬 프로그래머입니다. ^^\")"
      ],
      "metadata": {
        "colab": {
          "base_uri": "https://localhost:8080/"
        },
        "id": "73wM0ZXgPxWW",
        "outputId": "4fb48853-84b2-4127-87c6-e1c74af31bf6"
      },
      "execution_count": 5,
      "outputs": [
        {
          "output_type": "stream",
          "name": "stdout",
          "text": [
            "난생처음 파이썬을\n",
            "열심히 공부 중입니다~\n",
            "이젠 저도 파이썬 프로그래머입니다. ^^\n"
          ]
        }
      ]
    }
  ]
}