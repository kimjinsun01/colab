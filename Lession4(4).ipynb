{
  "nbformat": 4,
  "nbformat_minor": 0,
  "metadata": {
    "colab": {
      "name": "Lession4(4).ipynb",
      "provenance": [],
      "authorship_tag": "ABX9TyNgl0SPTVjhmA5/P+jsLwdV",
      "include_colab_link": true
    },
    "kernelspec": {
      "name": "python3",
      "display_name": "Python 3"
    },
    "language_info": {
      "name": "python"
    }
  },
  "cells": [
    {
      "cell_type": "markdown",
      "metadata": {
        "id": "view-in-github",
        "colab_type": "text"
      },
      "source": [
        "<a href=\"https://colab.research.google.com/github/kimjinsun01/colab/blob/main/Lession4(4).ipynb\" target=\"_parent\"><img src=\"https://colab.research.google.com/assets/colab-badge.svg\" alt=\"Open In Colab\"/></a>"
      ]
    },
    {
      "cell_type": "markdown",
      "source": [
        "모험을 떠나는 거북이"
      ],
      "metadata": {
        "id": "9wC0yA1cHnP-"
      }
    },
    {
      "cell_type": "code",
      "source": [
        "#!pip3 install Colabturtle\n",
        "import ColabTurtle.Turtle as turtle\n",
        "turtle.initializeTurtle()\n",
        "\n",
        "x = int(input(\"이동할 x의 위치 : \"))\n",
        "y = int(input(\"이동할 y의 위치 : \"))\n",
        "text = input(\"쓰고 싶은 글자 ==>\")\n",
        "\n",
        "turtle.penup()\n",
        "turtle.goto(x,y)\n",
        "turtle.write(text)\n"
      ],
      "metadata": {
        "colab": {
          "base_uri": "https://localhost:8080/",
          "height": 575
        },
        "id": "20Hgy4dyHofG",
        "outputId": "dd16770d-a59e-44fb-ed59-ba38e85bec18"
      },
      "execution_count": null,
      "outputs": [
        {
          "output_type": "display_data",
          "data": {
            "text/plain": [
              "<IPython.core.display.HTML object>"
            ],
            "text/html": [
              "\n",
              "      <svg width=\"800\" height=\"500\">\n",
              "        <rect width=\"100%\" height=\"100%\" fill=\"black\"/>\n",
              "        <text x=\"300\" y=\"300\" fill=\"white\" text-anchor=\"start\" style=\"font-size:12px;font-family:'Arial';\">베트남</text>\n",
              "        <g visibility=visible transform=\"rotate(360,300,300) translate(282, 282)\">\n",
              "<path style=\" stroke:none;fill-rule:evenodd;fill:white;fill-opacity:1;\" d=\"M 18.214844 0.632812 C 16.109375 1.800781 15.011719 4.074219 15.074219 7.132812 L 15.085938 7.652344 L 14.785156 7.496094 C 13.476562 6.824219 11.957031 6.671875 10.40625 7.066406 C 8.46875 7.550781 6.515625 9.15625 4.394531 11.992188 C 3.0625 13.777344 2.679688 14.636719 3.042969 15.027344 L 3.15625 15.152344 L 3.519531 15.152344 C 4.238281 15.152344 4.828125 14.886719 8.1875 13.039062 C 9.386719 12.378906 10.371094 11.839844 10.378906 11.839844 C 10.386719 11.839844 10.355469 11.929688 10.304688 12.035156 C 9.832031 13.09375 9.257812 14.820312 8.96875 16.078125 C 7.914062 20.652344 8.617188 24.53125 11.070312 27.660156 C 11.351562 28.015625 11.363281 27.914062 10.972656 28.382812 C 8.925781 30.84375 7.945312 33.28125 8.238281 35.1875 C 8.289062 35.527344 8.28125 35.523438 8.917969 35.523438 C 10.941406 35.523438 13.074219 34.207031 15.136719 31.6875 C 15.359375 31.417969 15.328125 31.425781 15.5625 31.574219 C 16.292969 32.042969 18.023438 32.964844 18.175781 32.964844 C 18.335938 32.964844 19.941406 32.210938 20.828125 31.71875 C 20.996094 31.625 21.136719 31.554688 21.136719 31.558594 C 21.203125 31.664062 21.898438 32.414062 22.222656 32.730469 C 23.835938 34.300781 25.5625 35.132812 27.582031 35.300781 C 27.90625 35.328125 27.9375 35.308594 28.007812 34.984375 C 28.382812 33.242188 27.625 30.925781 25.863281 28.425781 L 25.542969 27.96875 L 25.699219 27.785156 C 28.945312 23.960938 29.132812 18.699219 26.257812 11.96875 L 26.207031 11.84375 L 27.945312 12.703125 C 31.53125 14.476562 32.316406 14.800781 33.03125 14.800781 C 33.976562 14.800781 33.78125 13.9375 32.472656 12.292969 C 28.519531 7.355469 25.394531 5.925781 21.921875 7.472656 L 21.558594 7.636719 L 21.578125 7.542969 C 21.699219 6.992188 21.761719 5.742188 21.699219 5.164062 C 21.496094 3.296875 20.664062 1.964844 19.003906 0.855469 C 18.480469 0.503906 18.457031 0.5 18.214844 0.632812\"/>\n",
              "</g>\n",
              "      </svg>\n",
              "    "
            ]
          },
          "metadata": {}
        },
        {
          "name": "stdout",
          "output_type": "stream",
          "text": [
            "이동할 x의 위치 : 300\n",
            "이동할 y의 위치 : 300\n",
            "쓰고 싶은 글자 ==>베트남\n"
          ]
        }
      ]
    },
    {
      "cell_type": "code",
      "source": [
        "num = 99\n",
        "if num < 100 :\n",
        "  print(\"100보다 작습니다.\")"
      ],
      "metadata": {
        "colab": {
          "base_uri": "https://localhost:8080/"
        },
        "id": "wm43hcXPQxdr",
        "outputId": "58d443c7-e585-4260-f87d-c4d7292742ed"
      },
      "execution_count": null,
      "outputs": [
        {
          "output_type": "stream",
          "name": "stdout",
          "text": [
            "100보다 작습니다.\n"
          ]
        }
      ]
    },
    {
      "cell_type": "code",
      "source": [
        "num = int(input(\"정수를 입력 : \"))\n",
        "if (num % 2) == 0 :\n",
        "  print(num,\"짝수입니다.\")\n",
        "else :\n",
        "  print(num,\"홀수입니다.\")"
      ],
      "metadata": {
        "id": "E1aUdSj5SD0m",
        "colab": {
          "base_uri": "https://localhost:8080/"
        },
        "outputId": "ad6871f0-9c8b-4cc1-cedf-2aa043451350"
      },
      "execution_count": 4,
      "outputs": [
        {
          "output_type": "stream",
          "name": "stdout",
          "text": [
            "정수를 입력 : 1\n",
            "1 홀수입니다.\n"
          ]
        }
      ]
    },
    {
      "cell_type": "markdown",
      "source": [
        "랜덤 함수\n",
        "import random"
      ],
      "metadata": {
        "id": "3oR4XsoxUFw_"
      }
    },
    {
      "cell_type": "code",
      "source": [
        "import random\n",
        "\n",
        "r = random.randint(1,45)\n",
        "print(r)"
      ],
      "metadata": {
        "colab": {
          "base_uri": "https://localhost:8080/"
        },
        "id": "_sWWKrv2UfY3",
        "outputId": "c7996d00-ce70-4d20-d773-49f128c1c5e0"
      },
      "execution_count": 16,
      "outputs": [
        {
          "output_type": "stream",
          "name": "stdout",
          "text": [
            "42\n"
          ]
        }
      ]
    },
    {
      "cell_type": "code",
      "source": [
        "import random\n",
        "\n",
        "com_number = random.randint(1,45)\n",
        "print(\"** 컴퓨터가 생각한 숫자를 맞추는 게임 **\")\n",
        "print(\"숫자는 1부터 45까지입니다.\")\n",
        "while com_number != user_number :\n",
        "  user_number = int(input(\"숫자를 입력 : \"))\n",
        "  if com_number > user_number :\n",
        "    print(\"입력한 숫자가 적습니다.\")\n",
        "  elif com_number < user_number :\n",
        "    print(\"입력한 숫자가 더 큽니다.\")\n",
        "  else :\n",
        "    print(\"정답^^7\")\n",
        "    "
      ],
      "metadata": {
        "colab": {
          "base_uri": "https://localhost:8080/"
        },
        "id": "J6vhLPTKVkhn",
        "outputId": "687697fb-3040-446b-c6bd-cb0823242ac0"
      },
      "execution_count": 22,
      "outputs": [
        {
          "output_type": "stream",
          "name": "stdout",
          "text": [
            "** 컴퓨터가 생각한 숫자를 맞추는 게임 **\n",
            "숫자는 1부터 45까지입니다.\n",
            "숫자를 입력 : 20\n",
            "입력한 숫자가 더 큽니다.\n",
            "숫자를 입력 : 10\n",
            "입력한 숫자가 적습니다.\n",
            "숫자를 입력 : 15\n",
            "입력한 숫자가 더 큽니다.\n",
            "숫자를 입력 : 13\n",
            "입력한 숫자가 더 큽니다.\n",
            "숫자를 입력 : 12\n",
            "정답^^7\n"
          ]
        }
      ]
    },
    {
      "cell_type": "code",
      "source": [
        "import random\n",
        "com_player = random.choice([\"가위\",\"바위\",\"보\"])\n",
        "print(\"** 가위 바위 보 게임 **\")\n",
        "user_player = input(\"가위/바위/보 중 하나를 입력하세요 ==> \")\n",
        "print(com_player, user_player)"
      ],
      "metadata": {
        "colab": {
          "base_uri": "https://localhost:8080/"
        },
        "id": "UY3Z-mqkYdnn",
        "outputId": "662638b9-5187-49fe-cb4b-024f17e4f013"
      },
      "execution_count": 26,
      "outputs": [
        {
          "output_type": "stream",
          "name": "stdout",
          "text": [
            "** 가위 바위 보 게임 **\n",
            "가위/바위/보 중 하나를 입력하세요 ==> 바위\n",
            "보 바위\n"
          ]
        }
      ]
    },
    {
      "cell_type": "code",
      "source": [
        "import random\n",
        "com_player = random.choice([\"가위\",\"바위\",\"보\"])\n",
        "print(\"** 가위 바위 보 게임 **\")\n",
        "user_player = input(\"가위/바위/보 중 하나를 입력하세요 ==> \")\n",
        "count = 7\n",
        "while count > 0:\n",
        "  user_player = input(\"가위/바위/보 중 하나를 입력하세요 ==>\")\n",
        "  if (com_player == user_player) :\n",
        "    print(\"비겼다.\")\n",
        "  elif ((com_player == \"가위\") and (user_player == \"바위\")) or \\\n",
        "  ((com_player == \"바위\") and (user_player == \"가위\")) or \\\n",
        "  ((com_player == \"보\") and (user_player == \"가위\")) :\n",
        "    print(\"이겼다.\")\n",
        "  else :\n",
        "    print(\"졌다.\")\n",
        "  count = count - 1"
      ],
      "metadata": {
        "colab": {
          "base_uri": "https://localhost:8080/"
        },
        "id": "Y4M7tiQ1ZwcH",
        "outputId": "439139c7-a4fd-42c8-ab19-4764272d008d"
      },
      "execution_count": 33,
      "outputs": [
        {
          "output_type": "stream",
          "name": "stdout",
          "text": [
            "** 가위 바위 보 게임 **\n",
            "가위/바위/보 중 하나를 입력하세요 ==> 보\n",
            "가위/바위/보 중 하나를 입력하세요 ==>가위\n",
            "이겼다.\n",
            "가위/바위/보 중 하나를 입력하세요 ==>주먹\n",
            "졌다.\n",
            "가위/바위/보 중 하나를 입력하세요 ==>보\n",
            "비겼다.\n",
            "가위/바위/보 중 하나를 입력하세요 ==>가위\n",
            "이겼다.\n",
            "가위/바위/보 중 하나를 입력하세요 ==>가위\n",
            "이겼다.\n",
            "가위/바위/보 중 하나를 입력하세요 ==>가위\n",
            "이겼다.\n",
            "가위/바위/보 중 하나를 입력하세요 ==>보\n",
            "비겼다.\n"
          ]
        }
      ]
    }
  ]
}